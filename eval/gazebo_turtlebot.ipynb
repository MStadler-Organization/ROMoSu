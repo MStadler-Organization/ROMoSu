{
 "cells": [
  {
   "cell_type": "markdown",
   "source": [
    "# Evaluation"
   ],
   "metadata": {
    "collapsed": false
   }
  },
  {
   "cell_type": "code",
   "execution_count": 2,
   "outputs": [],
   "source": [
    "import os\n",
    "from fnmatch import fnmatch\n",
    "\n",
    "import pandas as pd\n",
    "\n",
    "from utils import get_project_root"
   ],
   "metadata": {
    "collapsed": false
   }
  },
  {
   "cell_type": "code",
   "execution_count": 3,
   "outputs": [],
   "source": [
    "device_type_name = 'Gazebo Turtlebot'\n",
    "output_path_time_data = os.path.join(get_project_root().__str__(), 'backend', 'django_rest', 'output')\n",
    "output_path_constraint_data = os.path.join(get_project_root().__str__(), 'services', 'constraint_engines', 'src',\n",
    "                                           'eval')"
   ],
   "metadata": {
    "collapsed": false
   }
  },
  {
   "cell_type": "markdown",
   "source": [
    "## Gazebo Turtlebot"
   ],
   "metadata": {
    "collapsed": false
   }
  },
  {
   "cell_type": "markdown",
   "source": [
    "### Brute Force"
   ],
   "metadata": {
    "collapsed": false
   }
  },
  {
   "cell_type": "code",
   "execution_count": 6,
   "outputs": [
    {
     "name": "stdout",
     "output_type": "stream",
     "text": [
      "Gazebo Turtlebot - brute force over three runs on average >> 4204.666666666667\n",
      "Gazebo Turtlebot - brute force # of distinct topics >> 5\n"
     ]
    }
   ],
   "source": [
    "eval_metric = 'brute force'\n",
    "\n",
    "time_data_gm_tp_bfm = os.path.join(output_path_time_data, 'gazebo_tb', 'throughput', 'brute_force_monitoring')\n",
    "pattern = \"*.log\"\n",
    "\n",
    "time_eval_files = []\n",
    "\n",
    "# gather files\n",
    "for dirpath, dirnames, filenames in os.walk(time_data_gm_tp_bfm):\n",
    "    for name in filenames:\n",
    "        if fnmatch(name, pattern):\n",
    "            time_eval_files.append(os.path.join(dirpath, name))\n",
    "\n",
    "gaz_man_brute_force = []\n",
    "\n",
    "for file_path in time_eval_files:\n",
    "    data = pd.read_csv(file_path, header=None, delim_whitespace=True)\n",
    "    data = data.drop(data.columns[[2, 3, 4, 5, 6]], axis=1)\n",
    "    data.columns = ['date', 'timestamp', 'topic', ]\n",
    "    gaz_man_brute_force.append(data)\n",
    "\n",
    "total_msgs = (len(gaz_man_brute_force[0].index) + len(gaz_man_brute_force[1].index) + len(\n",
    "    gaz_man_brute_force[2].index)) / 3\n",
    "\n",
    "nr_of_topics = pd.concat(gaz_man_brute_force)['topic'].nunique()\n",
    "\n",
    "print(f'{device_type_name} - {eval_metric} over three runs on average >> {total_msgs}')\n",
    "print(f'{device_type_name} - {eval_metric} # of distinct topics >> {nr_of_topics}')"
   ],
   "metadata": {
    "collapsed": false
   }
  },
  {
   "cell_type": "markdown",
   "source": [
    "### Selective Monitoring"
   ],
   "metadata": {
    "collapsed": false
   }
  },
  {
   "cell_type": "code",
   "execution_count": 9,
   "outputs": [
    {
     "name": "stdout",
     "output_type": "stream",
     "text": [
      "Gazebo Turtlebot - selective monitoring over three runs on average >> 190.0\n",
      "Gazebo Turtlebot - selective monitoring # of distinct topics >> 2\n"
     ]
    }
   ],
   "source": [
    "eval_metric = 'selective monitoring'\n",
    "\n",
    "time_data_gm_tp_bfm = os.path.join(output_path_time_data, 'gazebo_tb', 'throughput', 'selective_monitoring')\n",
    "pattern = \"*.log\"\n",
    "\n",
    "time_eval_files = []\n",
    "\n",
    "# gather files\n",
    "for dirpath, dirnames, filenames in os.walk(time_data_gm_tp_bfm):\n",
    "    for name in filenames:\n",
    "        if fnmatch(name, pattern):\n",
    "            time_eval_files.append(os.path.join(dirpath, name))\n",
    "\n",
    "gaz_man_brute_force = []\n",
    "\n",
    "for file_path in time_eval_files:\n",
    "    data = pd.read_csv(file_path, header=None, delim_whitespace=True)\n",
    "    data = data.drop(data.columns[[2, 3, 4, 5]], axis=1)\n",
    "    data.columns = ['date', 'timestamp', 'topic', ]\n",
    "    gaz_man_brute_force.append(data)\n",
    "\n",
    "total_msgs = (len(gaz_man_brute_force[0].index) + len(gaz_man_brute_force[1].index) + len(\n",
    "    gaz_man_brute_force[2].index)) / 3\n",
    "\n",
    "nr_of_topics = pd.concat(gaz_man_brute_force)['topic'].nunique()\n",
    "\n",
    "\n",
    "print(f'{device_type_name} - {eval_metric} over three runs on average >> {total_msgs}')\n",
    "print(f'{device_type_name} - {eval_metric} # of distinct topics >> {nr_of_topics}')"
   ],
   "metadata": {
    "collapsed": false
   }
  },
  {
   "cell_type": "markdown",
   "source": [
    "## CST Violations"
   ],
   "metadata": {
    "collapsed": false
   }
  },
  {
   "cell_type": "code",
   "execution_count": 25,
   "outputs": [
    {
     "name": "stdout",
     "output_type": "stream",
     "text": [
      "c3_1_tb_infinite_ranges.cst    47\n",
      "c2_tb_collision.cst            35\n",
      "c1_tb_linear_velocity.cst      11\n",
      "Name: constraint, dtype: int64\n",
      "c3_1_tb_infinite_ranges.cst    56\n",
      "c2_tb_collision.cst            38\n",
      "c1_tb_linear_velocity.cst      19\n",
      "Name: constraint, dtype: int64\n",
      "c3_1_tb_infinite_ranges.cst    59\n",
      "c2_tb_collision.cst            29\n",
      "c1_tb_linear_velocity.cst       9\n",
      "Name: constraint, dtype: int64\n",
      "Gazebo Turtlebot - CST Violations - c1_tb_linear_velocity # of vioalations >> 13.0\n",
      "Gazebo Turtlebot - CST Violations - c2_tb_collision # of vioalations >> 34.0\n",
      "Gazebo Turtlebot - CST Violations - c3_1_tb_infinite_ranges # of vioalations >> 54.0\n"
     ]
    }
   ],
   "source": [
    "eval_metric = 'CST Violations'\n",
    "\n",
    "time_data_gm_tp_bfm = os.path.join(output_path_constraint_data, 'gazebo_tb')\n",
    "pattern = \"*.log\"\n",
    "\n",
    "time_eval_files = []\n",
    "\n",
    "# gather files\n",
    "for dirpath, dirnames, filenames in os.walk(time_data_gm_tp_bfm):\n",
    "    for name in filenames:\n",
    "        if fnmatch(name, pattern):\n",
    "            time_eval_files.append(os.path.join(dirpath, name))\n",
    "\n",
    "gaz_man_brute_force = []\n",
    "c1 = 0\n",
    "c2 = 0\n",
    "c3 = 0\n",
    "\n",
    "for file_path in time_eval_files:\n",
    "    data = pd.read_csv(file_path, header=None, delim_whitespace=True)\n",
    "    data = data.drop(data.columns[[2, 3, 4]], axis=1)\n",
    "    data.columns = ['date', 'timestamp', 'constraint', ]\n",
    "    print(data['constraint'].value_counts())\n",
    "    c3 += data['constraint'].value_counts()[0]\n",
    "    c2 += data['constraint'].value_counts()[1]\n",
    "    c1 += data['constraint'].value_counts()[2]\n",
    "    gaz_man_brute_force.append(data)\n",
    "\n",
    "\n",
    "\n",
    "print(f'{device_type_name} - {eval_metric} - c1_tb_linear_velocity # of vioalations >> {c1/3}')\n",
    "print(f'{device_type_name} - {eval_metric} - c2_tb_collision # of vioalations >> {c2/3}')\n",
    "print(f'{device_type_name} - {eval_metric} - c3_1_tb_infinite_ranges # of vioalations >> {c3/3}')"
   ],
   "metadata": {
    "collapsed": false
   }
  },
  {
   "cell_type": "markdown",
   "source": [
    "## Time Metrics\n",
    "### RTT"
   ],
   "metadata": {
    "collapsed": false
   }
  },
  {
   "cell_type": "code",
   "execution_count": 36,
   "outputs": [
    {
     "name": "stdout",
     "output_type": "stream",
     "text": [
      "Gazebo Turtlebot - RTT over three runs avg >> 394.8091441035419\n",
      "Gazebo Turtlebot - RTT # of distinct topics >> 5\n"
     ]
    }
   ],
   "source": [
    "eval_metric = 'RTT'\n",
    "\n",
    "time_data_gm_tp_bfm = os.path.join(output_path_time_data, 'gazebo_tb', 'delay')\n",
    "pattern = \"*.log\"\n",
    "\n",
    "time_eval_files = []\n",
    "\n",
    "# gather files\n",
    "for dirpath, dirnames, filenames in os.walk(time_data_gm_tp_bfm):\n",
    "    for name in filenames:\n",
    "        if fnmatch(name, pattern):\n",
    "            time_eval_files.append(os.path.join(dirpath, name))\n",
    "\n",
    "gaz_man_brute_force = []\n",
    "\n",
    "for file_path in time_eval_files:\n",
    "    data = pd.read_csv(file_path, header=None, delim_whitespace=True)\n",
    "    data = data.drop(data.columns[[2, 4]], axis=1)\n",
    "    data.columns = ['date', 'timestamp', 'rtt_in_ms', 'topic']\n",
    "    data['rtt_in_ms'] = data['rtt_in_ms'].str.replace('ms', '')\n",
    "    data['rtt_in_ms'] = data['rtt_in_ms'].astype(int)\n",
    "    gaz_man_brute_force.append(data)\n",
    "\n",
    "avg_run_1 = gaz_man_brute_force[0]['rtt_in_ms'].sum() / len(gaz_man_brute_force[0].index)\n",
    "avg_run_2 = gaz_man_brute_force[1]['rtt_in_ms'].sum() / len(gaz_man_brute_force[1].index)\n",
    "avg_run_3 = gaz_man_brute_force[2]['rtt_in_ms'].sum() / len(gaz_man_brute_force[2].index)\n",
    "\n",
    "overall_avg_rtt = (avg_run_1 + avg_run_2 + avg_run_3) / 3\n",
    "\n",
    "nr_of_topics = pd.concat(gaz_man_brute_force)['topic'].nunique()\n",
    "\n",
    "print(f'{device_type_name} - {eval_metric} over three runs avg >> {overall_avg_rtt}')\n",
    "print(f'{device_type_name} - {eval_metric} # of distinct topics >> {nr_of_topics}')"
   ],
   "metadata": {
    "collapsed": false
   }
  },
  {
   "cell_type": "markdown",
   "source": [
    "### EPT"
   ],
   "metadata": {
    "collapsed": false
   }
  },
  {
   "cell_type": "code",
   "execution_count": 39,
   "outputs": [
    {
     "name": "stdout",
     "output_type": "stream",
     "text": [
      "Gazebo Turtlebot - EPT over three runs avg >> 312377.94275309984\n",
      "Gazebo Turtlebot - EPT # of distinct topics >> 5\n"
     ]
    }
   ],
   "source": [
    "eval_metric = 'EPT'\n",
    "\n",
    "time_data_gm_tp_bfm = os.path.join(output_path_time_data, 'gazebo_tb', 'effective_processing_time')\n",
    "pattern = \"*.log\"\n",
    "\n",
    "time_eval_files = []\n",
    "\n",
    "# gather files\n",
    "for dirpath, dirnames, filenames in os.walk(time_data_gm_tp_bfm):\n",
    "    for name in filenames:\n",
    "        if fnmatch(name, pattern):\n",
    "            time_eval_files.append(os.path.join(dirpath, name))\n",
    "\n",
    "gaz_man_brute_force = []\n",
    "\n",
    "for file_path in time_eval_files:\n",
    "    data = pd.read_csv(file_path, header=None, delim_whitespace=True)\n",
    "    data = data.drop(data.columns[[2, 4]], axis=1)\n",
    "    data.columns = ['date', 'timestamp', 'ept_in_ns', 'topic']\n",
    "    data['ept_in_ns'] = data['ept_in_ns'].str.replace('nanosecs', '')\n",
    "    data['ept_in_ns'] = data['ept_in_ns'].astype(int)\n",
    "    gaz_man_brute_force.append(data)\n",
    "\n",
    "\n",
    "avg_run_1 = gaz_man_brute_force[0]['ept_in_ns'].sum() / len(gaz_man_brute_force[0].index)\n",
    "avg_run_2 = gaz_man_brute_force[1]['ept_in_ns'].sum() / len(gaz_man_brute_force[1].index)\n",
    "avg_run_3 = gaz_man_brute_force[2]['ept_in_ns'].sum() / len(gaz_man_brute_force[2].index)\n",
    "\n",
    "overall_avg_rtt = (avg_run_1 + avg_run_2 + avg_run_3) / 3\n",
    "\n",
    "nr_of_topics = pd.concat(gaz_man_brute_force)['topic'].nunique()\n",
    "\n",
    "print(f'{device_type_name} - {eval_metric} over three runs avg >> {overall_avg_rtt}')\n",
    "print(f'{device_type_name} - {eval_metric} # of distinct topics >> {nr_of_topics}')"
   ],
   "metadata": {
    "collapsed": false
   }
  }
 ],
 "metadata": {
  "kernelspec": {
   "display_name": "Python 3",
   "language": "python",
   "name": "python3"
  },
  "language_info": {
   "codemirror_mode": {
    "name": "ipython",
    "version": 2
   },
   "file_extension": ".py",
   "mimetype": "text/x-python",
   "name": "python",
   "nbconvert_exporter": "python",
   "pygments_lexer": "ipython2",
   "version": "2.7.6"
  }
 },
 "nbformat": 4,
 "nbformat_minor": 0
}

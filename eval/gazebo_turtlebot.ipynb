{
 "cells": [
  {
   "cell_type": "markdown",
   "source": [
    "# Evaluation"
   ],
   "metadata": {
    "collapsed": false
   }
  },
  {
   "cell_type": "code",
   "execution_count": 2,
   "outputs": [],
   "source": [
    "import os\n",
    "from fnmatch import fnmatch\n",
    "\n",
    "import pandas as pd\n",
    "\n",
    "from utils import get_project_root"
   ],
   "metadata": {
    "collapsed": false
   }
  },
  {
   "cell_type": "code",
   "execution_count": 3,
   "outputs": [],
   "source": [
    "\n",
    "output_path_time_data = os.path.join(get_project_root().__str__(), 'backend', 'django_rest', 'output')\n",
    "output_path_constraint_data = os.path.join(get_project_root().__str__(), 'services', 'constraint_engines', 'src',\n",
    "                                           'eval')"
   ],
   "metadata": {
    "collapsed": false
   }
  },
  {
   "cell_type": "markdown",
   "source": [
    "## Gazebo Turtlebot"
   ],
   "metadata": {
    "collapsed": false
   }
  },
  {
   "cell_type": "markdown",
   "source": [
    "### Brute Force"
   ],
   "metadata": {
    "collapsed": false
   }
  },
  {
   "cell_type": "code",
   "execution_count": 6,
   "outputs": [
    {
     "name": "stdout",
     "output_type": "stream",
     "text": [
      "Gazebo Turtlebot - brute force over three runs on average >> 4204.666666666667\n",
      "Gazebo Turtlebot - brute force # of distinct topics >> 5\n"
     ]
    }
   ],
   "source": [
    "device_type_name = 'Gazebo Turtlebot'\n",
    "eval_metric = 'brute force'\n",
    "\n",
    "time_data_gm_tp_bfm = os.path.join(output_path_time_data, 'gazebo_tb', 'throughput', 'brute_force_monitoring')\n",
    "pattern = \"*.log\"\n",
    "\n",
    "time_eval_files = []\n",
    "\n",
    "# gather files\n",
    "for dirpath, dirnames, filenames in os.walk(time_data_gm_tp_bfm):\n",
    "    for name in filenames:\n",
    "        if fnmatch(name, pattern):\n",
    "            time_eval_files.append(os.path.join(dirpath, name))\n",
    "\n",
    "gaz_man_brute_force = []\n",
    "\n",
    "for file_path in time_eval_files:\n",
    "    data = pd.read_csv(file_path, header=None, delim_whitespace=True)\n",
    "    data = data.drop(data.columns[[2, 3, 4, 5, 6]], axis=1)\n",
    "    data.columns = ['date', 'timestamp', 'topic', ]\n",
    "    gaz_man_brute_force.append(data)\n",
    "\n",
    "total_msgs = (len(gaz_man_brute_force[0].index) + len(gaz_man_brute_force[1].index) + len(\n",
    "    gaz_man_brute_force[2].index)) / 3\n",
    "\n",
    "nr_of_topics = pd.concat(gaz_man_brute_force)['topic'].nunique()\n",
    "\n",
    "print(f'{device_type_name} - {eval_metric} over three runs on average >> {total_msgs}')\n",
    "print(f'{device_type_name} - {eval_metric} # of distinct topics >> {nr_of_topics}')"
   ],
   "metadata": {
    "collapsed": false
   }
  },
  {
   "cell_type": "markdown",
   "source": [
    "### Selective Monitoring"
   ],
   "metadata": {
    "collapsed": false
   }
  },
  {
   "cell_type": "code",
   "execution_count": 9,
   "outputs": [
    {
     "name": "stdout",
     "output_type": "stream",
     "text": [
      "Gazebo Turtlebot - selective monitoring over three runs on average >> 190.0\n",
      "Gazebo Turtlebot - selective monitoring # of distinct topics >> 2\n"
     ]
    }
   ],
   "source": [
    "device_type_name = 'Gazebo Turtlebot'\n",
    "eval_metric = 'selective monitoring'\n",
    "\n",
    "time_data_gm_tp_bfm = os.path.join(output_path_time_data, 'gazebo_tb', 'throughput', 'selective_monitoring')\n",
    "pattern = \"*.log\"\n",
    "\n",
    "time_eval_files = []\n",
    "\n",
    "# gather files\n",
    "for dirpath, dirnames, filenames in os.walk(time_data_gm_tp_bfm):\n",
    "    for name in filenames:\n",
    "        if fnmatch(name, pattern):\n",
    "            time_eval_files.append(os.path.join(dirpath, name))\n",
    "\n",
    "gaz_man_brute_force = []\n",
    "\n",
    "for file_path in time_eval_files:\n",
    "    data = pd.read_csv(file_path, header=None, delim_whitespace=True)\n",
    "    data = data.drop(data.columns[[2, 3, 4, 5]], axis=1)\n",
    "    data.columns = ['date', 'timestamp', 'topic', ]\n",
    "    gaz_man_brute_force.append(data)\n",
    "\n",
    "total_msgs = (len(gaz_man_brute_force[0].index) + len(gaz_man_brute_force[1].index) + len(\n",
    "    gaz_man_brute_force[2].index)) / 3\n",
    "\n",
    "nr_of_topics = pd.concat(gaz_man_brute_force)['topic'].nunique()\n",
    "\n",
    "\n",
    "print(f'{device_type_name} - {eval_metric} over three runs on average >> {total_msgs}')\n",
    "print(f'{device_type_name} - {eval_metric} # of distinct topics >> {nr_of_topics}')"
   ],
   "metadata": {
    "collapsed": false
   }
  }
 ],
 "metadata": {
  "kernelspec": {
   "display_name": "Python 3",
   "language": "python",
   "name": "python3"
  },
  "language_info": {
   "codemirror_mode": {
    "name": "ipython",
    "version": 2
   },
   "file_extension": ".py",
   "mimetype": "text/x-python",
   "name": "python",
   "nbconvert_exporter": "python",
   "pygments_lexer": "ipython2",
   "version": "2.7.6"
  }
 },
 "nbformat": 4,
 "nbformat_minor": 0
}
